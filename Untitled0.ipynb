{
  "nbformat": 4,
  "nbformat_minor": 0,
  "metadata": {
    "colab": {
      "provenance": [],
      "toc_visible": true,
      "authorship_tag": "ABX9TyPWA7oMNh+JzqAQrm0N8Pk/",
      "include_colab_link": true
    },
    "kernelspec": {
      "name": "python3",
      "display_name": "Python 3"
    },
    "language_info": {
      "name": "python"
    }
  },
  "cells": [
    {
      "cell_type": "markdown",
      "metadata": {
        "id": "view-in-github",
        "colab_type": "text"
      },
      "source": [
        "<a href=\"https://colab.research.google.com/github/sollucian/Assignment-1/blob/main/Untitled0.ipynb\" target=\"_parent\"><img src=\"https://colab.research.google.com/assets/colab-badge.svg\" alt=\"Open In Colab\"/></a>"
      ]
    },
    {
      "cell_type": "code",
      "execution_count": 3,
      "metadata": {
        "colab": {
          "base_uri": "https://localhost:8080/",
          "height": 106
        },
        "id": "4_rBEcv-9MJn",
        "outputId": "3bd9b911-0d2d-4687-ef4c-478d71aff025"
      },
      "outputs": [
        {
          "output_type": "error",
          "ename": "SyntaxError",
          "evalue": "invalid syntax (<ipython-input-3-4e4a0abd0a79>, line 1)",
          "traceback": [
            "\u001b[0;36m  File \u001b[0;32m\"<ipython-input-3-4e4a0abd0a79>\"\u001b[0;36m, line \u001b[0;32m1\u001b[0m\n\u001b[0;31m    <?php\u001b[0m\n\u001b[0m    ^\u001b[0m\n\u001b[0;31mSyntaxError\u001b[0m\u001b[0;31m:\u001b[0m invalid syntax\n"
          ]
        }
      ],
      "source": [
        "<?php\n",
        "include 'db_connect.php';\n",
        "\n",
        "if (isset($_GET[\"id\"])) {\n",
        "    $id = $_GET[\"id\"];\n",
        "    $sql = \"DELETE FROM inventory WHERE id = $id\";\n",
        "    mysqli_query($conn, $sql);\n",
        "}\n",
        "\n",
        "header(\"Location: index.html\");\n",
        "?>"
      ]
    },
    {
      "cell_type": "code",
      "source": [
        "inventory = {}\n",
        "\n",
        "def add_item():\n",
        "    item_name = input(\"Enter item name: \")\n",
        "    quantity = int(input(\"Enter quantity: \"))\n",
        "    inventory[item_name] = quantity\n",
        "    print(f\"Added {quantity} of {item_name} to inventory.\")\n",
        "\n",
        "def view_inventory():\n",
        "    if not inventory:\n",
        "        print(\"Inventory is empty.\")\n",
        "        return\n",
        "    print(\"Current Inventory:\")\n",
        "    for item, quantity in inventory.items():\n",
        "        print(f\"- {item}: {quantity}\")\n",
        "\n",
        "def update_quantity():\n",
        "    item_name = input(\"Enter item name to update: \")\n",
        "    if item_name not in inventory:\n",
        "        print(\"Item not found in inventory.\")\n",
        "        return\n",
        "    new_quantity = int(input(\"Enter new quantity: \"))\n",
        "    inventory[item_name] = new_quantity\n",
        "    print(f\"Updated {item_name} quantity to {new_quantity}.\")\n",
        "\n",
        "def remove_item():\n",
        "    item_name = input(\"Enter item name to remove: \")\n",
        "    if item_name not in inventory:\n",
        "        print(\"Item not found in inventory.\")\n",
        "        return\n",
        "    del inventory[item_name]\n",
        "    print(f\"Removed {item_name} from inventory.\")\n",
        "\n",
        "def search_item():\n",
        "    item_name = input(\"Enter item name to search: \")\n",
        "    if item_name in inventory:\n",
        "        print(f\"Found {item_name}. Quantity: {inventory[item_name]}\")\n",
        "    else:\n",
        "        print(\"Item not found in inventory.\")\n",
        "\n",
        "def main():\n",
        "    while True:\n",
        "        print(\"\\nInventory System Menu\")\n",
        "        print(\"1. Add item\")\n",
        "        print(\"2. View inventory\")\n",
        "        print(\"3. Update quantity\")\n",
        "        print(\"4. Remove item\")\n",
        "        print(\"5. Search item\")\n",
        "        print(\"6. Exit\")\n",
        "\n",
        "        choice = input(\"Enter your choice: \")\n",
        "        if choice == \"1\":\n",
        "            add_item()\n",
        "        elif choice == \"2\":\n",
        "            view_inventory()\n",
        "        elif choice == \"3\":\n",
        "            update_quantity()\n",
        "        elif choice == \"4\":\n",
        "            remove_item()\n",
        "        elif choice == \"5\":\n",
        "            search_item()\n",
        "        elif choice == \"6\":\n",
        "            print(\"Exiting Inventory System.\")\n",
        "            break\n",
        "        else:\n",
        "            print(\"Invalid choice. Please try again.\")\n",
        "\n",
        "if __name__ == \"__main__\":\n",
        "    main()"
      ],
      "metadata": {
        "colab": {
          "base_uri": "https://localhost:8080/"
        },
        "id": "ogfQdXrc9ukq",
        "outputId": "12a867cf-9ad5-4d59-9e2d-baa94991a2df"
      },
      "execution_count": null,
      "outputs": [
        {
          "output_type": "stream",
          "name": "stdout",
          "text": [
            "\n",
            "Inventory System Menu\n",
            "1. Add item\n",
            "2. View inventory\n",
            "3. Update quantity\n",
            "4. Remove item\n",
            "5. Search item\n",
            "6. Exit\n",
            "Enter your choice: 1\n",
            "Enter item name: book\n",
            "Enter quantity: 4\n",
            "Added 4 of book to inventory.\n",
            "\n",
            "Inventory System Menu\n",
            "1. Add item\n",
            "2. View inventory\n",
            "3. Update quantity\n",
            "4. Remove item\n",
            "5. Search item\n",
            "6. Exit\n"
          ]
        }
      ]
    },
    {
      "cell_type": "markdown",
      "source": [],
      "metadata": {
        "id": "mqHof_LI9uNP"
      }
    }
  ]
}